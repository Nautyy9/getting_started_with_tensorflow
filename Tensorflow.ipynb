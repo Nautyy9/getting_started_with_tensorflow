{
  "nbformat": 4,
  "nbformat_minor": 0,
  "metadata": {
    "colab": {
      "provenance": [],
      "collapsed_sections": [
        "DeiruL-40_2L",
        "OohgoiECCAxm",
        "hJAwtOA0BIyJ",
        "Y-LXxRU694Ii",
        "8gwz6TwoCwvl",
        "8xPPMVrREPb0",
        "eHs9LtLQGjza",
        "o50JWzRaHy2M"
      ],
      "authorship_tag": "ABX9TyOrh8LMzhuxWnukUjm2vJJq",
      "include_colab_link": true
    },
    "kernelspec": {
      "name": "python3",
      "display_name": "Python 3"
    },
    "language_info": {
      "name": "python"
    }
  },
  "cells": [
    {
      "cell_type": "markdown",
      "metadata": {
        "id": "view-in-github",
        "colab_type": "text"
      },
      "source": [
        "<a href=\"https://colab.research.google.com/github/Nautyy9/getting_started_with_tensorflow/blob/main/Tensorflow.ipynb\" target=\"_parent\"><img src=\"https://colab.research.google.com/assets/colab-badge.svg\" alt=\"Open In Colab\"/></a>"
      ]
    },
    {
      "cell_type": "code",
      "execution_count": null,
      "metadata": {
        "id": "3FLXnOl5zcO9"
      },
      "outputs": [],
      "source": [
        "import tensorflow as tf"
      ]
    },
    {
      "cell_type": "markdown",
      "source": [
        "# Tensors are multi-dimensional array\n"
      ],
      "metadata": {
        "id": "DeiruL-40_2L"
      }
    },
    {
      "cell_type": "code",
      "source": [
        "zero_d_arr = tf.constant(8)"
      ],
      "metadata": {
        "id": "5dZS03-9zg19"
      },
      "execution_count": null,
      "outputs": []
    },
    {
      "cell_type": "code",
      "source": [
        "one_d_arr = tf.constant(\n",
        "    [1,24,34],\n",
        "    )"
      ],
      "metadata": {
        "id": "Xq4K3M0MznOt"
      },
      "execution_count": null,
      "outputs": []
    },
    {
      "cell_type": "code",
      "source": [
        "two_d_arr = tf.constant(\n",
        "    [\n",
        "      [1,24,34], [3,45,6],\n",
        "    ], dtype=\"float32\"\n",
        "    )\n",
        "print(two_d_arr)"
      ],
      "metadata": {
        "colab": {
          "base_uri": "https://localhost:8080/"
        },
        "id": "GHt4j6eJz17H",
        "outputId": "8a0d240c-17e0-4ba7-a57d-baaa241ca5ac"
      },
      "execution_count": null,
      "outputs": [
        {
          "output_type": "stream",
          "name": "stdout",
          "text": [
            "tf.Tensor(\n",
            "[[ 1. 24. 34.]\n",
            " [ 3. 45.  6.]], shape=(2, 3), dtype=float32)\n"
          ]
        }
      ]
    },
    {
      "cell_type": "code",
      "source": [
        "three_d_arr = tf.constant(\n",
        "    [\n",
        "      [\n",
        "          [1,24,34], [3,45,6],\n",
        "      ],\n",
        "      [\n",
        "          [324,32235,3432], [1234,345,356],\n",
        "      ],\n",
        "    ]\n",
        "    )\n"
      ],
      "metadata": {
        "id": "qxoXQXHBz2_G"
      },
      "execution_count": null,
      "outputs": []
    },
    {
      "cell_type": "code",
      "source": [
        "four_d_arr = tf.constant(\n",
        "    [\n",
        "      [\n",
        "        [\n",
        "            [1,24,34], [3,45,6]\n",
        "        ],\n",
        "        [\n",
        "            [324,32235,3432], [1234,345,356]\n",
        "        ],\n",
        "      ],\n",
        "      [\n",
        "        [\n",
        "            [1423,32424,34234], [13,245,46]\n",
        "        ],\n",
        "        [\n",
        "            [34,3235,432], [234,35,36],\n",
        "        ],\n",
        "      ],\n",
        "    ]\n",
        ")\n"
      ],
      "metadata": {
        "id": "63jhWja3z4CX"
      },
      "execution_count": null,
      "outputs": []
    },
    {
      "cell_type": "markdown",
      "source": [
        "# From Numpy Array to Tensorflow Tensor"
      ],
      "metadata": {
        "id": "OohgoiECCAxm"
      }
    },
    {
      "cell_type": "code",
      "source": [
        "import numpy as np\n",
        "\n",
        "np_array = np.array([3,1,3,5], dtype=\"int32\")\n",
        "\n",
        "\n",
        "# takes in numpy array as the arguement\n",
        "np_to_tensor = tf.convert_to_tensor(np_array)\n",
        "print(np_to_tensor)"
      ],
      "metadata": {
        "colab": {
          "base_uri": "https://localhost:8080/"
        },
        "id": "PHU2CHxhCQlG",
        "outputId": "2cda3f6b-217e-49c7-ab00-e73fe3597a01"
      },
      "execution_count": null,
      "outputs": [
        {
          "output_type": "stream",
          "name": "stdout",
          "text": [
            "tf.Tensor([3 1 3 5], shape=(4,), dtype=int32)\n"
          ]
        }
      ]
    },
    {
      "cell_type": "markdown",
      "source": [
        "\n",
        "# Some New Numpy Methods\n"
      ],
      "metadata": {
        "id": "-CwLBzzMjP0T"
      }
    },
    {
      "cell_type": "code",
      "source": [
        "import numpy as np\n",
        "np_2d_array_1  = np.array([\n",
        "    [2,3,4],\n",
        "    [1,5,2],\n",
        "    ])\n",
        "np_2d_array_2  = np.array([\n",
        "    [4,7],\n",
        "    [12,10],\n",
        "    [5,13]\n",
        "])\n",
        "\n",
        "np_2d_array_trans  = np.array([\n",
        "    [2,3,4],\n",
        "    [1,5,2],\n",
        "    [1,6,4]\n",
        "    ])\n",
        "np_einsum_matmul = np.einsum(\"ij,jk -> ik\", np_2d_array_1,  np_2d_array_2)\n",
        "np_einsum_mul = np.einsum(\"ij , ji -> ij\", np_2d_array_1,  np_2d_array_2)\n",
        "np_einsum_sum_all = np.einsum(\"ij,ji -> \", np_2d_array_1,  np_2d_array_2)\n",
        "np_einsum_sum_col = np.einsum(\"ij -> j\",  np_2d_array_2)\n",
        "np_einsum_sum_row = np.einsum(\"ij -> i \", np_2d_array_1)\n",
        "np_einsum_trans = np.einsum(\"ij -> ji\" , np_2d_array_trans)\n",
        "print(np_einsum_trans)\n"
      ],
      "metadata": {
        "colab": {
          "base_uri": "https://localhost:8080/"
        },
        "id": "4mwO1ZmpjWjL",
        "outputId": "f5b46c0b-d3d3-4554-f828-652fc8e2ff30"
      },
      "execution_count": null,
      "outputs": [
        {
          "output_type": "stream",
          "name": "stdout",
          "text": [
            "[[2 1 1]\n",
            " [3 5 6]\n",
            " [4 2 4]]\n"
          ]
        }
      ]
    },
    {
      "cell_type": "markdown",
      "source": [
        "# TENSORFLOW METHODS\n"
      ],
      "metadata": {
        "id": "PjBMMTgaB6o-"
      }
    },
    {
      "cell_type": "markdown",
      "source": [
        "# Cast\n",
        "*   create a new dtype for existing tensor\n",
        "\n",
        "\n",
        "\n"
      ],
      "metadata": {
        "id": "hJAwtOA0BIyJ"
      }
    },
    {
      "cell_type": "code",
      "source": [
        "cast_tensor = tf.cast(one_d_arr, dtype = tf.dtypes.int16)\n",
        "print(cast_tensor)"
      ],
      "metadata": {
        "colab": {
          "base_uri": "https://localhost:8080/"
        },
        "id": "m_uhx2U8BeB2",
        "outputId": "c6ae0c89-fad4-4548-bc58-0d3d285039f3"
      },
      "execution_count": null,
      "outputs": [
        {
          "output_type": "stream",
          "name": "stdout",
          "text": [
            "tf.Tensor([ 1 24 34], shape=(3,), dtype=int16)\n"
          ]
        }
      ]
    },
    {
      "cell_type": "markdown",
      "source": [
        "# EYE\n",
        "* Construct an identity matrix, or a batch of matrices.\n",
        "* eye is tf method (tf.eye) that create identity matrix"
      ],
      "metadata": {
        "id": "Y-LXxRU694Ii"
      }
    },
    {
      "cell_type": "code",
      "source": [
        "# the batch_shape defines the batch size , i,e when shape is (3,2,2) then batch is 3 having 2 rows and 2 cols\n",
        "# in 4D tensor (4,3,2,2) batch size is 4,3 rows->2, cols ->2 the batch defines the outer dimensions beside the rows and columns\n",
        "# batch_size = [3,] then the shape is (3,rows, cols)\n",
        "# batch_size = [4,3] then the shape is (4,3 , rows, cols)\n",
        "tf_iden_no_batch = tf.eye(\n",
        "    num_rows=3,\n",
        "    num_columns= None,\n",
        "    batch_shape=None,\n",
        "    dtype=\"int32\",\n",
        "    name=None\n",
        ")\n",
        "\n",
        "tf_iden_wt_batch3 = tf.eye(\n",
        "    num_rows=5,\n",
        "    num_columns= None,\n",
        "    batch_shape= [3,],\n",
        "    dtype=\"int32\",\n",
        "    name=None\n",
        ")\n",
        "\n",
        "tf_iden_wt_batch43 = tf.eye(\n",
        "    num_rows=5,\n",
        "    num_columns= None,\n",
        "    batch_shape= [4,3],\n",
        "    dtype=\"int32\",\n",
        "    name=None\n",
        ")\n",
        "\n",
        "print(tf_iden_wt_batch43)"
      ],
      "metadata": {
        "id": "XGIA54tSz4Jm"
      },
      "execution_count": null,
      "outputs": []
    },
    {
      "cell_type": "markdown",
      "source": [
        "# FILL\n",
        "\n",
        "\n",
        "*   Create a tensor filled with scalar values with a defined(given) shape\n",
        "* it take a shape as an array(1D tensor) and tensor fill each value with the specified arguement\n",
        "\n",
        "\n"
      ],
      "metadata": {
        "id": "8gwz6TwoCwvl"
      }
    },
    {
      "cell_type": "code",
      "source": [
        "tf_fill = tf.fill([2,3,4], 9)\n",
        "print(tf_fill)"
      ],
      "metadata": {
        "colab": {
          "base_uri": "https://localhost:8080/"
        },
        "id": "NWF8En1NEFCK",
        "outputId": "1d47e28e-84ef-49a6-86bd-b74fa13f3f4c"
      },
      "execution_count": null,
      "outputs": [
        {
          "output_type": "stream",
          "name": "stdout",
          "text": [
            "tf.Tensor(\n",
            "[[[9 9 9 9]\n",
            "  [9 9 9 9]\n",
            "  [9 9 9 9]]\n",
            "\n",
            " [[9 9 9 9]\n",
            "  [9 9 9 9]\n",
            "  [9 9 9 9]]], shape=(2, 3, 4), dtype=int32)\n"
          ]
        }
      ]
    },
    {
      "cell_type": "markdown",
      "source": [
        "# ONES , ONES_lIKE , ZEROS , ZEROS_LIKE\n",
        "\n",
        "*   ones will create a tensor with all 1, ones_like create all 1(values) tensor with taking the  shape of another tensor.\n",
        "*   zeros will create a tensor with all 0, zero_like create all 0(values) tensor with taking the  shape of another tensor\n",
        "\n",
        "**dtype -> float default**"
      ],
      "metadata": {
        "id": "8xPPMVrREPb0"
      }
    },
    {
      "cell_type": "code",
      "source": [
        "tf_ones = tf.ones([1,2,4], dtype=\"int32\")\n",
        "tf_zeros = tf.zeros([1,2,4], dtype=\"int32\")\n",
        "\n",
        "# will take the shape as well as the type from the arguement tensor\n",
        "tf_ones_like = tf.ones_like(tf_ones)\n",
        "tf_zeros_like = tf.zeros_like(tf_zeros)\n",
        "\n",
        "\n",
        "print(tf_ones, tf_zeros, tf_ones_like, tf_zeros_like)"
      ],
      "metadata": {
        "colab": {
          "base_uri": "https://localhost:8080/"
        },
        "id": "OldUC7ooEOnF",
        "outputId": "9fda6480-f0c7-4cad-c63f-793b83bee9ee"
      },
      "execution_count": null,
      "outputs": [
        {
          "output_type": "stream",
          "name": "stdout",
          "text": [
            "tf.Tensor(\n",
            "[[[1 1 1 1]\n",
            "  [1 1 1 1]]], shape=(1, 2, 4), dtype=int32) tf.Tensor(\n",
            "[[[0 0 0 0]\n",
            "  [0 0 0 0]]], shape=(1, 2, 4), dtype=int32) tf.Tensor(\n",
            "[[[1 1 1 1]\n",
            "  [1 1 1 1]]], shape=(1, 2, 4), dtype=int32) tf.Tensor(\n",
            "[[[0 0 0 0]\n",
            "  [0 0 0 0]]], shape=(1, 2, 4), dtype=int32)\n"
          ]
        }
      ]
    },
    {
      "cell_type": "markdown",
      "source": [
        "# SHAPE , RANK , SIZE\n",
        "* shape gives the shape with the type(i.e, if its a tensorflow tensor or not) of specified tensor\n",
        "* rank gives the dimension of the specified tensor\n",
        "* size returns the no. of element in the tensor"
      ],
      "metadata": {
        "id": "eHs9LtLQGjza"
      }
    },
    {
      "cell_type": "code",
      "source": [
        "print(tf.shape(tf_ones_like))\n",
        "print(tf.rank(tf_zeros_like))\n",
        "print(tf.size(tf_ones))"
      ],
      "metadata": {
        "colab": {
          "base_uri": "https://localhost:8080/"
        },
        "id": "hkb3FBRsG5Pv",
        "outputId": "abbae917-d1e0-4ae3-be0a-14b6a19c3af4"
      },
      "execution_count": null,
      "outputs": [
        {
          "output_type": "stream",
          "name": "stdout",
          "text": [
            "tf.Tensor([1 2 4], shape=(3,), dtype=int32)\n",
            "tf.Tensor(3, shape=(), dtype=int32)\n",
            "tf.Tensor(8, shape=(), dtype=int32)\n"
          ]
        }
      ]
    },
    {
      "cell_type": "markdown",
      "source": [
        "# RANDOM\n",
        "\n",
        "**CREATE A TENSORS WITH RANDOM VALUES**\n",
        "# `RANDOM-NORMAL`\n",
        "# `RANDOM-UNIFORM`\n",
        "\n",
        "* normal creates a tensor with random values with normal distribution(Mean, Standard Deviation)\n",
        "\n",
        "* uniform creates a tensor with random values with uniform distribution (a=minval, b=maxval)\n"
      ],
      "metadata": {
        "id": "o50JWzRaHy2M"
      }
    },
    {
      "cell_type": "code",
      "source": [
        "# normal signifies the normal distribution i.e having mean and std.dev\n",
        "# <-- It may not contain int type -->\n",
        "tf_random_normal = tf.random.normal(\n",
        "    [2,3],\n",
        "    mean=100,\n",
        "    stddev=1,\n",
        "    seed=None,\n",
        "    dtype=tf.dtypes.float32,\n",
        ")\n",
        "# print(tf_random_normal)\n",
        "\n",
        "\n",
        "tf_random_uniform = tf.random.uniform(\n",
        "    [2,3],\n",
        "    minval=1,\n",
        "    maxval=10,\n",
        "    dtype= tf.dtypes.float32,\n",
        "    seed=None,\n",
        "    name=None\n",
        ")\n",
        "# print(tf_random_uniform)\n",
        "\n",
        "\n",
        "\n",
        "\n",
        "\n",
        "# SEEDING\n",
        "# seeding is done to create replica of the existing tensor or tensor's\n",
        "\"\"\"\n",
        "\n",
        "* seeding require a global set_seed and local seed(parameter to tf.random)\n",
        "* the global seed value of one matches the global seed value of another i.e\n",
        "  tf.random.set_seed(5) == tf.random.set_seed(5)\n",
        "* once the global seed got matched then we match individual tensor with their individual seed value i.e irrespective of the position of the tensor if the  see value is same\n",
        "then it will get the same value\n",
        "\n",
        "\"\"\"\n",
        "\n",
        "\n",
        "tf.random.set_seed(10)\n",
        "print(tf.random.uniform(shape=[1,2,3] , minval=10, maxval=100, seed=5))\n",
        "print(tf.random.uniform(shape=[1,2,3] , minval=10, maxval=100, seed=5))\n",
        "print(tf.random.uniform(shape=[1,2,3] , minval=10, maxval=100, seed=1))\n",
        "print(tf.random.uniform(shape=[1,2,3] , minval=10, maxval=100, seed=1))\n",
        "\n",
        "# since we've 2 values for one seed i.e 2 tensors for seed=5 and another 2 tensors for seed=1, now each seed has 2 values hence at reasigning one of the two values is assigned\n",
        "\n",
        "tf.random.set_seed(10)\n",
        "print(tf.random.uniform(shape=[1,2,3] , minval=10, maxval=100, seed=1))\n",
        "print(tf.random.uniform(shape=[1,2,3] , minval=10, maxval=100, seed=1))\n",
        "print(tf.random.uniform(shape=[1,2,3] , minval=10, maxval=100, seed=5))\n",
        "print(tf.random.uniform(shape=[1,2,3] , minval=10, maxval=100, seed=5))\n"
      ],
      "metadata": {
        "id": "dDwbz7QfIeHC",
        "colab": {
          "base_uri": "https://localhost:8080/"
        },
        "outputId": "059ee986-64a4-48ae-d566-1e6fa0d5952f"
      },
      "execution_count": null,
      "outputs": [
        {
          "output_type": "stream",
          "name": "stdout",
          "text": [
            "tf.Tensor(\n",
            "[[[99.049736 43.170063 20.454672]\n",
            "  [87.64169  52.827614 51.136803]]], shape=(1, 2, 3), dtype=float32)\n",
            "tf.Tensor(\n",
            "[[[94.997284 96.20311  28.39783 ]\n",
            "  [80.996826 77.8827   70.30328 ]]], shape=(1, 2, 3), dtype=float32)\n",
            "tf.Tensor(\n",
            "[[[98.84572  97.43886  76.15645 ]\n",
            "  [65.48087  26.866224 54.283913]]], shape=(1, 2, 3), dtype=float32)\n",
            "tf.Tensor(\n",
            "[[[56.9203   27.7251   33.827168]\n",
            "  [44.04045  38.15204  92.92371 ]]], shape=(1, 2, 3), dtype=float32)\n",
            "tf.Tensor(\n",
            "[[[98.84572  97.43886  76.15645 ]\n",
            "  [65.48087  26.866224 54.283913]]], shape=(1, 2, 3), dtype=float32)\n",
            "tf.Tensor(\n",
            "[[[56.9203   27.7251   33.827168]\n",
            "  [44.04045  38.15204  92.92371 ]]], shape=(1, 2, 3), dtype=float32)\n",
            "tf.Tensor(\n",
            "[[[99.049736 43.170063 20.454672]\n",
            "  [87.64169  52.827614 51.136803]]], shape=(1, 2, 3), dtype=float32)\n",
            "tf.Tensor(\n",
            "[[[94.997284 96.20311  28.39783 ]\n",
            "  [80.996826 77.8827   70.30328 ]]], shape=(1, 2, 3), dtype=float32)\n"
          ]
        }
      ]
    },
    {
      "cell_type": "markdown",
      "source": [
        "#"
      ],
      "metadata": {
        "id": "RlrRYivOqV1V"
      }
    },
    {
      "cell_type": "markdown",
      "source": [],
      "metadata": {
        "id": "Rn0wN4E8rF2L"
      }
    },
    {
      "cell_type": "markdown",
      "source": [
        "# MATH\n",
        "**TensorFlow provides a variety of math functions**\n",
        "\n",
        "`MATH.ABS`\n",
        "![tf-math-abs-TensorFlow-v2-12-0.png](data:image/png;base64,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)\n",
        "\n",
        "`MATH.ADD`\n",
        "`MATH.MULTIPLY`\n",
        "`MATH.DIVIDE`\n",
        "`MATH.SUBTRACT`\n",
        "`MATH.MAXIMUM`\n",
        "`MATH.MINIMUM`\n",
        "`MATH.POW`\n",
        "`MATH.ROUND`\n",
        "`MATH.SQRT`\n",
        "`e.t.c`\n",
        "\n",
        "\n",
        "\n"
      ],
      "metadata": {
        "id": "jOd9_HwIrHdp"
      }
    },
    {
      "cell_type": "code",
      "source": [
        "abs_tensor = tf.constant([[1,-2,3,-4,-5], [-6,-7,8,-9,-10]], dtype=\"int32\")\n",
        "\n",
        "a_tensor = tf.constant([[1.9,2,3,4,5], [6,7,8,9,10]], dtype=tf.dtypes.float32)\n",
        "b_tensor = tf.constant([[10.1,11,12,13,14.9], [15,16, 17,18,19]], dtype=tf.dtypes.float32)\n",
        "\n",
        "complex_tensor = tf.constant([[-2.25 + 4.75j], [-3.25 + 5.75j]])\n",
        "# b_tensor = tf.constant([[7]], dtype=\"int32\") # this is called BROADCASTING where only one element act as all i.e, [7] = [[7,7,7,7,7],[7,7,7,7,7]]\n",
        "\n",
        "tf_math_mul = tf.math.multiply(a_tensor, b_tensor)\n",
        "tf_math_add = tf.math.add(a_tensor, b_tensor)\n",
        "tf_math_divide = tf.math.divide(a_tensor, b_tensor) # return infinite if denominator is zero\n",
        "tf_math_divide_no_nan = tf.math.divide_no_nan(a_tensor, b_tensor) # return  0 if denominator is zero , compatible types are float32, float64\n",
        "tf_math_subtract = tf.math.subtract(a_tensor, b_tensor)\n",
        "tf_math_abs = tf.math.abs(a_tensor) # return all positive value\n",
        "tf_math_abs_complex = tf.math.abs(complex_tensor)\n",
        "tf_math_max = tf.math.maximum(a_tensor,b_tensor)\n",
        "tf_math_min = tf.math.minimum(a_tensor,b_tensor)\n",
        "tf_math_pow = tf.math.pow(a_tensor, 2)\n",
        "tf_math_round = tf.math.round(a_tensor)\n",
        "tf_math_sqrt = tf.math.sqrt(a_tensor)\n",
        "tf_math_argmax = tf.math.argmax(a_tensor)\n",
        "tf_math_reduce_sum= tf.math.reduce_sum(a_tensor , axis=None , keepdims=True, name=None)\n",
        "tf_math_top_k = tf.math.top_k(a_tensor, k=2)\n",
        "\n",
        "# print(tf_math_abs_complex)"
      ],
      "metadata": {
        "colab": {
          "base_uri": "https://localhost:8080/"
        },
        "id": "UbKVkxzvsJk8",
        "outputId": "16970230-4c33-4750-8544-595157d23588"
      },
      "execution_count": null,
      "outputs": [
        {
          "output_type": "stream",
          "name": "stdout",
          "text": [
            "TopKV2(values=<tf.Tensor: shape=(2, 2), dtype=float32, numpy=\n",
            "array([[ 5.,  4.],\n",
            "       [10.,  9.]], dtype=float32)>, indices=<tf.Tensor: shape=(2, 2), dtype=int32, numpy=\n",
            "array([[4, 3],\n",
            "       [4, 3]], dtype=int32)>)\n"
          ]
        }
      ]
    },
    {
      "cell_type": "markdown",
      "source": [
        "\n",
        "\n",
        "#**LINEAR ALGEBRA**\n",
        "\n",
        "`provides collections of linear algerbra operation for tensors`"
      ],
      "metadata": {
        "id": "AuMjMIh7HvrG"
      }
    },
    {
      "cell_type": "markdown",
      "source": [
        "\n",
        "\n",
        "**1. BAND PART**\n",
        "---\n",
        "Copy a tensor setting everything outside a central band in each innermost matrix to zero.\n",
        "\n",
        "\n",
        "\\**CONDITION ->  (num_lower < 0 || (m-n) <= num_lower)) && (num_upper < 0 || (n-m) <= num_upper)**\n",
        "\n",
        "\n",
        "---\n",
        "\n",
        "\n",
        "* in this we provide input tensor with a following lower and upper values if the\n",
        "band_part condition satifies then the value is retained else 0 is returned in new o/p matrix\n",
        "\n",
        "\n",
        "\n",
        "*  in this tensor the value returned are m-n (row-column)\n",
        " * input_tensor_for_band_m_n = tf.constant([\n",
        "    [ 0,  -1,  -2],\n",
        "    [1,  0,  -1],\n",
        "    [2, 1,  0],\n",
        "    [3, 2, 1],\n",
        "]\n",
        ")\n",
        "\n",
        "* here n-m (cols -rows)\n",
        "  * input_tensor_for_band_n_m = tf.constant([\n",
        "    [ 0,  1,  2],\n",
        "    [-1,  0,  1],\n",
        "    [-2, -1,  0],\n",
        "    [-3, -2, -1],\n",
        "]\n",
        ")\n",
        "\n",
        "\n",
        "\n",
        "\n"
      ],
      "metadata": {
        "id": "QYabHVsjtSow"
      }
    },
    {
      "cell_type": "markdown",
      "source": [],
      "metadata": {
        "id": "kVbsxPvJvNnc"
      }
    },
    {
      "cell_type": "code",
      "source": [
        "# m-n and n-m are important to check condition on every value and if it specify that then return the corresponding value\n",
        "\n",
        "tf_input_tensor = tf.random.uniform(shape=(3,3), minval=5 , maxval=20 , dtype=tf.dtypes.int32)\n",
        "# print(tf_input_tensor)\n",
        "\n",
        "\n",
        "tf_band_part = tf.linalg.band_part(tf_input_tensor, 0, 2)\n",
        "print(tf_band_part)\n"
      ],
      "metadata": {
        "colab": {
          "base_uri": "https://localhost:8080/"
        },
        "id": "EaXxYLJjd4Jy",
        "outputId": "f6517dd9-6a41-47ef-9604-1cfa171f8a40"
      },
      "execution_count": null,
      "outputs": [
        {
          "output_type": "stream",
          "name": "stdout",
          "text": [
            "tf.Tensor(\n",
            "[[18  8  5]\n",
            " [ 0 13 19]\n",
            " [ 0  0 13]], shape=(3, 3), dtype=int32)\n"
          ]
        }
      ]
    },
    {
      "cell_type": "markdown",
      "source": [
        " **2. INVERSE**\n",
        " ---\n",
        "* Computes the inverse of one or more square invertible matrices or their adjoints (conjugate transposes).\n",
        "* work only for float32/64\n",
        "\n"
      ],
      "metadata": {
        "id": "36_OWqSeCDpP"
      }
    },
    {
      "cell_type": "code",
      "source": [
        "tf_cast = tf.cast(tf_input_tensor, dtype=tf.dtypes.float32)\n",
        "\n",
        "tf_inv = tf.linalg.inv(tf_cast)\n",
        "print(tf_inv)"
      ],
      "metadata": {
        "colab": {
          "base_uri": "https://localhost:8080/"
        },
        "id": "4hNo7Y0vCRvW",
        "outputId": "9874b270-4d6f-4cee-de5d-f65beeaf8f93"
      },
      "execution_count": null,
      "outputs": [
        {
          "output_type": "stream",
          "name": "stdout",
          "text": [
            "tf.Tensor(\n",
            "[[ 0.06689868  0.00541376 -0.03364269]\n",
            " [ 0.00154679 -0.07501933  0.10904872]\n",
            " [-0.04331014  0.10054138 -0.05336427]], shape=(3, 3), dtype=float32)\n"
          ]
        }
      ]
    },
    {
      "cell_type": "code",
      "source": [
        "tf_tens1 = tf.random.uniform(shape=(3,3), minval=5 , maxval=20 , dtype=tf.dtypes.int32)\n",
        "tf_tens2 = tf.random.uniform(shape=(3,3), minval=5 , maxval=20 , dtype=tf.dtypes.int32)\n",
        "\n",
        "tf_matmul = tf.linalg.matmul(tf_tens1, tf_tens2)\n",
        "print(tf_matmul)"
      ],
      "metadata": {
        "colab": {
          "base_uri": "https://localhost:8080/"
        },
        "id": "vm2IHn-rC1xB",
        "outputId": "57a54046-12d4-4518-b5d6-33657a88901c"
      },
      "execution_count": null,
      "outputs": [
        {
          "output_type": "stream",
          "name": "stdout",
          "text": [
            "tf.Tensor(\n",
            "[[454 436 410]\n",
            " [506 327 325]\n",
            " [283 255 242]], shape=(3, 3), dtype=int32)\n"
          ]
        }
      ]
    },
    {
      "cell_type": "markdown",
      "source": [
        "#**EXPAND DIMENSIONS, SQUEEZE**\n",
        "* expand_dims is used to increase the dimensions of the tensor , by inserting 1 at specified position using [ axis ] parameter\n",
        "  * axis refer to index i.e, axis=0 will add 1 to start and so on...\n",
        "  * it convert low dimension array to high dimension array i.e, shape(4,5) -> axis=0 -> (1,4,5) , axis=1->(4,1,5), axis=2->(4,5,1), axis=3-> !!error\n",
        "\n",
        "* opposite of expand is squeeze\n",
        "  * removes the axis with dim = 1 (length=1)"
      ],
      "metadata": {
        "id": "h7HSBXYND3tj"
      }
    },
    {
      "cell_type": "code",
      "source": [
        "\n",
        "tf_1 = tf.random.uniform(shape=([3,3]), minval=5 , maxval=20 , dtype=tf.dtypes.int32)\n",
        "\n",
        "exp_dim = tf.expand_dims(tf_1, axis=0)\n",
        "\n",
        "squeeze_dim = tf.squeeze(exp_dim) # if axis specied then remove only one dim of len 1 else remove all\n",
        "print(exp_dim, squeeze_dim)\n",
        "\n",
        "\n",
        "\n"
      ],
      "metadata": {
        "colab": {
          "base_uri": "https://localhost:8080/"
        },
        "id": "c1skUvF3FSyQ",
        "outputId": "8f5ca692-5f4a-4e34-cf93-69d503eac780"
      },
      "execution_count": null,
      "outputs": [
        {
          "output_type": "stream",
          "name": "stdout",
          "text": [
            "tf.Tensor(\n",
            "[[[10  9 12]\n",
            "  [13  5  9]\n",
            "  [13 15 19]]], shape=(1, 3, 3), dtype=int32) tf.Tensor(\n",
            "[[10  9 12]\n",
            " [13  5  9]\n",
            " [13 15 19]], shape=(3, 3), dtype=int32)\n"
          ]
        }
      ]
    },
    {
      "cell_type": "markdown",
      "source": [],
      "metadata": {
        "id": "6BT4XkIvGYxi"
      }
    },
    {
      "cell_type": "markdown",
      "source": [
        "# CONCAT\n",
        "* concat tensors along one direction defined by axis"
      ],
      "metadata": {
        "id": "6KpSVryUOMfw"
      }
    },
    {
      "cell_type": "code",
      "source": [
        "tf_1 = tf.random.uniform(shape=(3,3), minval=5 , maxval=20 , dtype=tf.dtypes.int32)\n",
        "tf_2 = tf.random.uniform(shape=(3,3), minval=5 , maxval=20 , dtype=tf.dtypes.int32)\n",
        "\n",
        "# the tensors must need to be passed in as arrays\n",
        "tf_concat_row = tf.concat([tf_1, tf_2], axis=0)#0 means the whole row would to attached to\n",
        "tf_concat_into_cols = tf.concat([tf_1, tf_2], axis=1)#0 since the row cannot be attaced to col directly i.e [1,2,3,4,5] ->we've to transpose it and  then attach to the row\n",
        "\n",
        "\n",
        "print('\\n', tf_1, tf_2)\n",
        "print('\\n',tf_concat_row, tf_concat_into_cols)\n",
        "\n"
      ],
      "metadata": {
        "colab": {
          "base_uri": "https://localhost:8080/"
        },
        "id": "nroOOEVaOy5G",
        "outputId": "4f26e724-b6b8-4f0a-d5d1-1248c6851d43"
      },
      "execution_count": null,
      "outputs": [
        {
          "output_type": "stream",
          "name": "stdout",
          "text": [
            "\n",
            " tf.Tensor(\n",
            "[[11  5  9]\n",
            " [11 12 16]\n",
            " [ 8 17 19]], shape=(3, 3), dtype=int32) tf.Tensor(\n",
            "[[13  5 16]\n",
            " [19 12  9]\n",
            " [ 7 14 11]], shape=(3, 3), dtype=int32)\n",
            "\n",
            " tf.Tensor(\n",
            "[[11  5  9]\n",
            " [11 12 16]\n",
            " [ 8 17 19]\n",
            " [13  5 16]\n",
            " [19 12  9]\n",
            " [ 7 14 11]], shape=(6, 3), dtype=int32) tf.Tensor(\n",
            "[[11  5  9 13  5 16]\n",
            " [11 12 16 19 12  9]\n",
            " [ 8 17 19  7 14 11]], shape=(3, 6), dtype=int32)\n"
          ]
        }
      ]
    },
    {
      "cell_type": "markdown",
      "source": [
        "# STACK\n",
        "\n",
        "* Stacks a list of rank-R tensors into one rank-(R+1) tensor.\n",
        "* tf.stack(\n",
        "    values, axis=0, name='stack'\n",
        ")"
      ],
      "metadata": {
        "id": "ds8VLo8H73fW"
      }
    },
    {
      "cell_type": "code",
      "source": [
        "tf_1 = tf.random.uniform(shape=(3,4), minval=5 , maxval=30 , dtype=tf.dtypes.int32)\n",
        "tf_2 = tf.random.uniform(shape=(3,4), minval=5 , maxval=30 , dtype=tf.dtypes.int32)\n",
        "\n",
        "# shape must match\n",
        "# default axis =0 , placing at first index ,axis=1-> placing at second index and so on...\n",
        "# now why 2 we get as batch size? since our input values are 2 tensors thef -> output batch = 2 if i/p tensor are 3 then batch = 3\n",
        "tf_stack = tf.stack([tf_1, tf_2] ,axis=1)\n",
        "print(tf_stack)\n"
      ],
      "metadata": {
        "colab": {
          "base_uri": "https://localhost:8080/"
        },
        "id": "xWMODZDY8UTQ",
        "outputId": "04cdbe81-d4e9-4372-d01c-7b934712e415"
      },
      "execution_count": null,
      "outputs": [
        {
          "output_type": "stream",
          "name": "stdout",
          "text": [
            "tf.Tensor(\n",
            "[[[21 23  9 15]\n",
            "  [13  5 12 20]]\n",
            "\n",
            " [[18 27  9 28]\n",
            "  [ 7 27 13  6]]\n",
            "\n",
            " [[ 6 13 29 25]\n",
            "  [10  6 21 18]]], shape=(3, 2, 4), dtype=int32)\n"
          ]
        }
      ]
    }
  ]
}